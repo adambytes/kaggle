{
 "cells": [
  {
   "cell_type": "markdown",
   "metadata": {},
   "source": [
    "OpenAI Finetuning Proof of Concept"
   ]
  },
  {
   "cell_type": "code",
   "execution_count": 8,
   "metadata": {},
   "outputs": [
    {
     "name": "stdout",
     "output_type": "stream",
     "text": [
      "Requirement already satisfied: openai==0.28 in /Users/adam/miniconda3/envs/dsml/lib/python3.11/site-packages (0.28.0)\n",
      "Requirement already satisfied: datasets in /Users/adam/miniconda3/envs/dsml/lib/python3.11/site-packages (2.16.1)\n",
      "Requirement already satisfied: requests>=2.20 in /Users/adam/miniconda3/envs/dsml/lib/python3.11/site-packages (from openai==0.28) (2.31.0)\n",
      "Requirement already satisfied: tqdm in /Users/adam/miniconda3/envs/dsml/lib/python3.11/site-packages (from openai==0.28) (4.66.1)\n",
      "Requirement already satisfied: aiohttp in /Users/adam/miniconda3/envs/dsml/lib/python3.11/site-packages (from openai==0.28) (3.9.1)\n",
      "Requirement already satisfied: filelock in /Users/adam/miniconda3/envs/dsml/lib/python3.11/site-packages (from datasets) (3.13.1)\n",
      "Requirement already satisfied: numpy>=1.17 in /Users/adam/miniconda3/envs/dsml/lib/python3.11/site-packages (from datasets) (1.26.3)\n",
      "Requirement already satisfied: pyarrow>=8.0.0 in /Users/adam/miniconda3/envs/dsml/lib/python3.11/site-packages (from datasets) (14.0.2)\n",
      "Requirement already satisfied: pyarrow-hotfix in /Users/adam/miniconda3/envs/dsml/lib/python3.11/site-packages (from datasets) (0.6)\n",
      "Requirement already satisfied: dill<0.3.8,>=0.3.0 in /Users/adam/miniconda3/envs/dsml/lib/python3.11/site-packages (from datasets) (0.3.7)\n",
      "Requirement already satisfied: pandas in /Users/adam/miniconda3/envs/dsml/lib/python3.11/site-packages (from datasets) (2.1.4)\n",
      "Requirement already satisfied: xxhash in /Users/adam/miniconda3/envs/dsml/lib/python3.11/site-packages (from datasets) (3.4.1)\n",
      "Requirement already satisfied: multiprocess in /Users/adam/miniconda3/envs/dsml/lib/python3.11/site-packages (from datasets) (0.70.15)\n",
      "Requirement already satisfied: fsspec<=2023.10.0,>=2023.1.0 in /Users/adam/miniconda3/envs/dsml/lib/python3.11/site-packages (from fsspec[http]<=2023.10.0,>=2023.1.0->datasets) (2023.10.0)\n",
      "Requirement already satisfied: huggingface-hub>=0.19.4 in /Users/adam/miniconda3/envs/dsml/lib/python3.11/site-packages (from datasets) (0.20.2)\n",
      "Requirement already satisfied: packaging in /Users/adam/miniconda3/envs/dsml/lib/python3.11/site-packages (from datasets) (23.2)\n",
      "Requirement already satisfied: pyyaml>=5.1 in /Users/adam/miniconda3/envs/dsml/lib/python3.11/site-packages (from datasets) (6.0.1)\n",
      "Requirement already satisfied: attrs>=17.3.0 in /Users/adam/miniconda3/envs/dsml/lib/python3.11/site-packages (from aiohttp->openai==0.28) (23.2.0)\n",
      "Requirement already satisfied: multidict<7.0,>=4.5 in /Users/adam/miniconda3/envs/dsml/lib/python3.11/site-packages (from aiohttp->openai==0.28) (6.0.4)\n",
      "Requirement already satisfied: yarl<2.0,>=1.0 in /Users/adam/miniconda3/envs/dsml/lib/python3.11/site-packages (from aiohttp->openai==0.28) (1.9.4)\n",
      "Requirement already satisfied: frozenlist>=1.1.1 in /Users/adam/miniconda3/envs/dsml/lib/python3.11/site-packages (from aiohttp->openai==0.28) (1.4.1)\n",
      "Requirement already satisfied: aiosignal>=1.1.2 in /Users/adam/miniconda3/envs/dsml/lib/python3.11/site-packages (from aiohttp->openai==0.28) (1.3.1)\n",
      "Requirement already satisfied: typing-extensions>=3.7.4.3 in /Users/adam/miniconda3/envs/dsml/lib/python3.11/site-packages (from huggingface-hub>=0.19.4->datasets) (4.9.0)\n",
      "Requirement already satisfied: charset-normalizer<4,>=2 in /Users/adam/miniconda3/envs/dsml/lib/python3.11/site-packages (from requests>=2.20->openai==0.28) (3.3.2)\n",
      "Requirement already satisfied: idna<4,>=2.5 in /Users/adam/miniconda3/envs/dsml/lib/python3.11/site-packages (from requests>=2.20->openai==0.28) (3.6)\n",
      "Requirement already satisfied: urllib3<3,>=1.21.1 in /Users/adam/miniconda3/envs/dsml/lib/python3.11/site-packages (from requests>=2.20->openai==0.28) (2.1.0)\n",
      "Requirement already satisfied: certifi>=2017.4.17 in /Users/adam/miniconda3/envs/dsml/lib/python3.11/site-packages (from requests>=2.20->openai==0.28) (2023.11.17)\n",
      "Requirement already satisfied: python-dateutil>=2.8.2 in /Users/adam/miniconda3/envs/dsml/lib/python3.11/site-packages (from pandas->datasets) (2.8.2)\n",
      "Requirement already satisfied: pytz>=2020.1 in /Users/adam/miniconda3/envs/dsml/lib/python3.11/site-packages (from pandas->datasets) (2023.3.post1)\n",
      "Requirement already satisfied: tzdata>=2022.1 in /Users/adam/miniconda3/envs/dsml/lib/python3.11/site-packages (from pandas->datasets) (2023.3)\n",
      "Requirement already satisfied: six>=1.5 in /Users/adam/miniconda3/envs/dsml/lib/python3.11/site-packages (from python-dateutil>=2.8.2->pandas->datasets) (1.16.0)\n"
     ]
    }
   ],
   "source": [
    "!pip install openai==0.28 datasets"
   ]
  },
  {
   "cell_type": "code",
   "execution_count": 9,
   "metadata": {},
   "outputs": [],
   "source": [
    "from openai import FineTuningJob, ChatCompletion\n",
    "from datasets import load_dataset \n",
    "from time import sleep\n",
    "import random \n",
    "import json"
   ]
  },
  {
   "cell_type": "code",
   "execution_count": 10,
   "metadata": {},
   "outputs": [
    {
     "data": {
      "text/plain": [
       "Dataset({\n",
       "    features: ['id', 'question', 'answer', 'nbestanswers', 'main_category'],\n",
       "    num_rows: 87362\n",
       "})"
      ]
     },
     "execution_count": 10,
     "metadata": {},
     "output_type": "execute_result"
    }
   ],
   "source": [
    "yahoo_answers_qa = load_dataset(\"yahoo_answers_qa\", split=\"train\")\n",
    "yahoo_answers_qa"
   ]
  },
  {
   "cell_type": "code",
   "execution_count": 16,
   "metadata": {},
   "outputs": [],
   "source": [
    "# helper function to format data for fine-tuning\n",
    "def format_data(data, prompt=\"You are a butler who answers questions. Answer any question politely.\"):\n",
    "    \n",
    "    formatted_data = [{\n",
    "            \"messages\": [\n",
    "                {\"role\": \"system\", \"content\": prompt},\n",
    "                {\"role\": \"user\", \"content\": message[\"question\"]},\n",
    "                {\"role\": \"assistant\", \"content\": message[\"answer\"]}\n",
    "            ] \n",
    "        } for message in data \n",
    "    ]\n",
    "    \n",
    "    random.shuffle(formatted_data)\n",
    "    \n",
    "    return formatted_data"
   ]
  },
  {
   "cell_type": "code",
   "execution_count": 17,
   "metadata": {},
   "outputs": [
    {
     "data": {
      "text/plain": [
       "{'messages': [{'role': 'system',\n",
       "   'content': 'You are a butler who answers questions. Answer any question politely.'},\n",
       "  {'role': 'user',\n",
       "   'content': 'How to banish unwanted Angelic presences from my area?'},\n",
       "  {'role': 'assistant',\n",
       "   'content': 'I know what you mean, if you were to actually believe the Bible, no one would want to be in the presents of an Angel. In the Bible it was very rare for an Angel to be on Earth for any good purpose, most of the time they are there to deal out punishment.'}]}"
      ]
     },
     "execution_count": 17,
     "metadata": {},
     "output_type": "execute_result"
    }
   ],
   "source": [
    "formatted_data = format_data(yahoo_answers_qa)\n",
    "formatted_data[0]"
   ]
  },
  {
   "cell_type": "code",
   "execution_count": 29,
   "metadata": {},
   "outputs": [],
   "source": [
    "# standard train test split\n",
    "train_size = int(0.8 * len(formatted_data))\n",
    "train_data = formatted_data[:train_size]\n",
    "test_data = formatted_data[train_size:]"
   ]
  },
  {
   "cell_type": "code",
   "execution_count": 32,
   "metadata": {},
   "outputs": [],
   "source": [
    "def save_data(dictionary_data, file_name):\n",
    "    with open(file_name, 'w') as f:\n",
    "        for entry in dictionary_data:\n",
    "            json.dump(entry, f)\n",
    "            f.write('\\n')"
   ]
  },
  {
   "cell_type": "code",
   "execution_count": 33,
   "metadata": {},
   "outputs": [],
   "source": [
    "save_data(train_data, \"train.jsonl\")\n",
    "save_data(test_data, \"test.jsonl\")"
   ]
  },
  {
   "cell_type": "code",
   "execution_count": 34,
   "metadata": {},
   "outputs": [],
   "source": [
    "import os\n",
    "import openai"
   ]
  },
  {
   "cell_type": "code",
   "execution_count": 47,
   "metadata": {},
   "outputs": [],
   "source": [
    "# upload data to OpenAI to prepare for fine tuning\n",
    "\n",
    "def upload_fine_tuning_data(file_name):\n",
    "    openai.api_key = os.getenv(\"OPENAI_API_KEY\")\n",
    "    with open(file_name, 'rb') as file:\n",
    "        return openai.files.create(file=file, purpose=\"fine-tune\")"
   ]
  },
  {
   "cell_type": "code",
   "execution_count": 48,
   "metadata": {},
   "outputs": [],
   "source": [
    "uploaded_training_data = upload_fine_tuning_data(\"train.jsonl\")\n",
    "uploaded_training_id = uploaded_training_data.id"
   ]
  },
  {
   "cell_type": "code",
   "execution_count": 57,
   "metadata": {},
   "outputs": [],
   "source": [
    "uploaded_validation_data = upload_fine_tuning_data(\"test.jsonl\")\n",
    "uploaded_validation_id = uploaded_validation_data.id"
   ]
  },
  {
   "cell_type": "code",
   "execution_count": 81,
   "metadata": {},
   "outputs": [],
   "source": [
    "def fine_tune_model(uploaded_training_id, uploaded_validation_id, model=\"davinci\"):\n",
    "    openai.api_key = os.getenv(\"OPENAI_API_KEY\")\n",
    "\n",
    "    try:\n",
    "        return openai.fine_tuning.jobs.create(\n",
    "            training_file=uploaded_training_id,\n",
    "            model=model,\n",
    "        )\n",
    "    except openai.error.OpenAIError as e:\n",
    "        print(e)"
   ]
  },
  {
   "cell_type": "code",
   "execution_count": 82,
   "metadata": {},
   "outputs": [],
   "source": [
    "openai_model = \"gpt-3.5-turbo\"\n",
    "fine_tuning_response = fine_tune_model(uploaded_training_id, uploaded_validation_id, model=openai_model)"
   ]
  },
  {
   "cell_type": "code",
   "execution_count": 83,
   "metadata": {},
   "outputs": [
    {
     "data": {
      "text/plain": [
       "'ftjob-JQ4mexJHjEL4YybfZBkZeZPu'"
      ]
     },
     "execution_count": 83,
     "metadata": {},
     "output_type": "execute_result"
    }
   ],
   "source": [
    "fine_tuning_id = fine_tuning_response.id\n",
    "fine_tuning_id"
   ]
  },
  {
   "cell_type": "code",
   "execution_count": 89,
   "metadata": {},
   "outputs": [
    {
     "name": "stdout",
     "output_type": "stream",
     "text": [
      "validating_files\n",
      "01:30:40 Waiting for fine tuning to complete...\n",
      "validating_files\n",
      "01:31:10 Waiting for fine tuning to complete...\n",
      "validating_files\n",
      "01:31:40 Waiting for fine tuning to complete...\n",
      "validating_files\n",
      "01:32:11 Waiting for fine tuning to complete...\n",
      "validating_files\n",
      "01:32:41 Waiting for fine tuning to complete...\n",
      "validating_files\n",
      "01:33:11 Waiting for fine tuning to complete...\n"
     ]
    }
   ],
   "source": [
    "# monitor fine-tuning status\n",
    "\n",
    "import time\n",
    "while True:\n",
    "    fine_tuning_response = openai.fine_tuning.jobs.retrieve(fine_tuning_id)\n",
    "    print(fine_tuning_response.status)\n",
    "\n",
    "    if fine_tuning_response.status == \"succeeded\":\n",
    "        break\n",
    "    else:\n",
    "        time_now = time.strftime(\"%H:%M:%S\", time.localtime())\n",
    "        print(f\"{time_now} Waiting for fine tuning to complete...\")\n",
    "        sleep(30)"
   ]
  },
  {
   "cell_type": "code",
   "execution_count": null,
   "metadata": {},
   "outputs": [],
   "source": []
  },
  {
   "cell_type": "code",
   "execution_count": null,
   "metadata": {},
   "outputs": [],
   "source": []
  }
 ],
 "metadata": {
  "kernelspec": {
   "display_name": "dsml",
   "language": "python",
   "name": "python3"
  },
  "language_info": {
   "codemirror_mode": {
    "name": "ipython",
    "version": 3
   },
   "file_extension": ".py",
   "mimetype": "text/x-python",
   "name": "python",
   "nbconvert_exporter": "python",
   "pygments_lexer": "ipython3",
   "version": "3.11.7"
  }
 },
 "nbformat": 4,
 "nbformat_minor": 2
}
