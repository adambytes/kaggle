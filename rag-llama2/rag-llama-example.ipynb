{
 "cells": [
  {
   "cell_type": "markdown",
   "metadata": {},
   "source": [
    "### RAG Proof of Concept"
   ]
  },
  {
   "cell_type": "code",
   "execution_count": 4,
   "metadata": {},
   "outputs": [
    {
     "name": "stdout",
     "output_type": "stream",
     "text": [
      "Requirement already satisfied: newsapi-python in /Users/adam/miniconda3/envs/dsml/lib/python3.11/site-packages (0.2.7)\n",
      "Requirement already satisfied: llama-index in /Users/adam/miniconda3/envs/dsml/lib/python3.11/site-packages (0.9.29)\n",
      "Requirement already satisfied: requests<3.0.0 in /Users/adam/miniconda3/envs/dsml/lib/python3.11/site-packages (from newsapi-python) (2.31.0)\n",
      "Requirement already satisfied: SQLAlchemy>=1.4.49 in /Users/adam/miniconda3/envs/dsml/lib/python3.11/site-packages (from SQLAlchemy[asyncio]>=1.4.49->llama-index) (2.0.25)\n",
      "Requirement already satisfied: aiohttp<4.0.0,>=3.8.6 in /Users/adam/miniconda3/envs/dsml/lib/python3.11/site-packages (from llama-index) (3.9.1)\n",
      "Requirement already satisfied: beautifulsoup4<5.0.0,>=4.12.2 in /Users/adam/miniconda3/envs/dsml/lib/python3.11/site-packages (from llama-index) (4.12.2)\n",
      "Requirement already satisfied: dataclasses-json in /Users/adam/miniconda3/envs/dsml/lib/python3.11/site-packages (from llama-index) (0.6.3)\n",
      "Requirement already satisfied: deprecated>=1.2.9.3 in /Users/adam/miniconda3/envs/dsml/lib/python3.11/site-packages (from llama-index) (1.2.14)\n",
      "Requirement already satisfied: fsspec>=2023.5.0 in /Users/adam/miniconda3/envs/dsml/lib/python3.11/site-packages (from llama-index) (2023.12.2)\n",
      "Requirement already satisfied: httpx in /Users/adam/miniconda3/envs/dsml/lib/python3.11/site-packages (from llama-index) (0.26.0)\n",
      "Requirement already satisfied: nest-asyncio<2.0.0,>=1.5.8 in /Users/adam/miniconda3/envs/dsml/lib/python3.11/site-packages (from llama-index) (1.5.8)\n",
      "Requirement already satisfied: networkx>=3.0 in /Users/adam/miniconda3/envs/dsml/lib/python3.11/site-packages (from llama-index) (3.2.1)\n",
      "Requirement already satisfied: nltk<4.0.0,>=3.8.1 in /Users/adam/miniconda3/envs/dsml/lib/python3.11/site-packages (from llama-index) (3.8.1)\n",
      "Requirement already satisfied: numpy in /Users/adam/miniconda3/envs/dsml/lib/python3.11/site-packages (from llama-index) (1.26.3)\n",
      "Requirement already satisfied: openai>=1.1.0 in /Users/adam/miniconda3/envs/dsml/lib/python3.11/site-packages (from llama-index) (1.7.1)\n",
      "Requirement already satisfied: pandas in /Users/adam/miniconda3/envs/dsml/lib/python3.11/site-packages (from llama-index) (2.1.4)\n",
      "Requirement already satisfied: tenacity<9.0.0,>=8.2.0 in /Users/adam/miniconda3/envs/dsml/lib/python3.11/site-packages (from llama-index) (8.2.3)\n",
      "Requirement already satisfied: tiktoken>=0.3.3 in /Users/adam/miniconda3/envs/dsml/lib/python3.11/site-packages (from llama-index) (0.5.2)\n",
      "Requirement already satisfied: typing-extensions>=4.5.0 in /Users/adam/miniconda3/envs/dsml/lib/python3.11/site-packages (from llama-index) (4.9.0)\n",
      "Requirement already satisfied: typing-inspect>=0.8.0 in /Users/adam/miniconda3/envs/dsml/lib/python3.11/site-packages (from llama-index) (0.9.0)\n",
      "Requirement already satisfied: attrs>=17.3.0 in /Users/adam/miniconda3/envs/dsml/lib/python3.11/site-packages (from aiohttp<4.0.0,>=3.8.6->llama-index) (23.2.0)\n",
      "Requirement already satisfied: multidict<7.0,>=4.5 in /Users/adam/miniconda3/envs/dsml/lib/python3.11/site-packages (from aiohttp<4.0.0,>=3.8.6->llama-index) (6.0.4)\n",
      "Requirement already satisfied: yarl<2.0,>=1.0 in /Users/adam/miniconda3/envs/dsml/lib/python3.11/site-packages (from aiohttp<4.0.0,>=3.8.6->llama-index) (1.9.4)\n",
      "Requirement already satisfied: frozenlist>=1.1.1 in /Users/adam/miniconda3/envs/dsml/lib/python3.11/site-packages (from aiohttp<4.0.0,>=3.8.6->llama-index) (1.4.1)\n",
      "Requirement already satisfied: aiosignal>=1.1.2 in /Users/adam/miniconda3/envs/dsml/lib/python3.11/site-packages (from aiohttp<4.0.0,>=3.8.6->llama-index) (1.3.1)\n",
      "Requirement already satisfied: soupsieve>1.2 in /Users/adam/miniconda3/envs/dsml/lib/python3.11/site-packages (from beautifulsoup4<5.0.0,>=4.12.2->llama-index) (2.5)\n",
      "Requirement already satisfied: wrapt<2,>=1.10 in /Users/adam/miniconda3/envs/dsml/lib/python3.11/site-packages (from deprecated>=1.2.9.3->llama-index) (1.16.0)\n",
      "Requirement already satisfied: click in /Users/adam/miniconda3/envs/dsml/lib/python3.11/site-packages (from nltk<4.0.0,>=3.8.1->llama-index) (8.1.7)\n",
      "Requirement already satisfied: joblib in /Users/adam/miniconda3/envs/dsml/lib/python3.11/site-packages (from nltk<4.0.0,>=3.8.1->llama-index) (1.3.2)\n",
      "Requirement already satisfied: regex>=2021.8.3 in /Users/adam/miniconda3/envs/dsml/lib/python3.11/site-packages (from nltk<4.0.0,>=3.8.1->llama-index) (2023.12.25)\n",
      "Requirement already satisfied: tqdm in /Users/adam/miniconda3/envs/dsml/lib/python3.11/site-packages (from nltk<4.0.0,>=3.8.1->llama-index) (4.66.1)\n",
      "Requirement already satisfied: anyio<5,>=3.5.0 in /Users/adam/miniconda3/envs/dsml/lib/python3.11/site-packages (from openai>=1.1.0->llama-index) (4.2.0)\n",
      "Requirement already satisfied: distro<2,>=1.7.0 in /Users/adam/miniconda3/envs/dsml/lib/python3.11/site-packages (from openai>=1.1.0->llama-index) (1.9.0)\n",
      "Requirement already satisfied: pydantic<3,>=1.9.0 in /Users/adam/miniconda3/envs/dsml/lib/python3.11/site-packages (from openai>=1.1.0->llama-index) (2.5.3)\n",
      "Requirement already satisfied: sniffio in /Users/adam/miniconda3/envs/dsml/lib/python3.11/site-packages (from openai>=1.1.0->llama-index) (1.3.0)\n",
      "Requirement already satisfied: certifi in /Users/adam/miniconda3/envs/dsml/lib/python3.11/site-packages (from httpx->llama-index) (2023.11.17)\n",
      "Requirement already satisfied: httpcore==1.* in /Users/adam/miniconda3/envs/dsml/lib/python3.11/site-packages (from httpx->llama-index) (1.0.2)\n",
      "Requirement already satisfied: idna in /Users/adam/miniconda3/envs/dsml/lib/python3.11/site-packages (from httpx->llama-index) (3.6)\n",
      "Requirement already satisfied: h11<0.15,>=0.13 in /Users/adam/miniconda3/envs/dsml/lib/python3.11/site-packages (from httpcore==1.*->httpx->llama-index) (0.14.0)\n",
      "Requirement already satisfied: charset-normalizer<4,>=2 in /Users/adam/miniconda3/envs/dsml/lib/python3.11/site-packages (from requests<3.0.0->newsapi-python) (3.3.2)\n",
      "Requirement already satisfied: urllib3<3,>=1.21.1 in /Users/adam/miniconda3/envs/dsml/lib/python3.11/site-packages (from requests<3.0.0->newsapi-python) (2.1.0)\n",
      "Requirement already satisfied: greenlet!=0.4.17 in /Users/adam/miniconda3/envs/dsml/lib/python3.11/site-packages (from SQLAlchemy[asyncio]>=1.4.49->llama-index) (3.0.3)\n",
      "Requirement already satisfied: mypy-extensions>=0.3.0 in /Users/adam/miniconda3/envs/dsml/lib/python3.11/site-packages (from typing-inspect>=0.8.0->llama-index) (1.0.0)\n",
      "Requirement already satisfied: marshmallow<4.0.0,>=3.18.0 in /Users/adam/miniconda3/envs/dsml/lib/python3.11/site-packages (from dataclasses-json->llama-index) (3.20.2)\n",
      "Requirement already satisfied: python-dateutil>=2.8.2 in /Users/adam/miniconda3/envs/dsml/lib/python3.11/site-packages (from pandas->llama-index) (2.8.2)\n",
      "Requirement already satisfied: pytz>=2020.1 in /Users/adam/miniconda3/envs/dsml/lib/python3.11/site-packages (from pandas->llama-index) (2023.3.post1)\n",
      "Requirement already satisfied: tzdata>=2022.1 in /Users/adam/miniconda3/envs/dsml/lib/python3.11/site-packages (from pandas->llama-index) (2023.3)\n",
      "Requirement already satisfied: packaging>=17.0 in /Users/adam/miniconda3/envs/dsml/lib/python3.11/site-packages (from marshmallow<4.0.0,>=3.18.0->dataclasses-json->llama-index) (23.2)\n",
      "Requirement already satisfied: annotated-types>=0.4.0 in /Users/adam/miniconda3/envs/dsml/lib/python3.11/site-packages (from pydantic<3,>=1.9.0->openai>=1.1.0->llama-index) (0.6.0)\n",
      "Requirement already satisfied: pydantic-core==2.14.6 in /Users/adam/miniconda3/envs/dsml/lib/python3.11/site-packages (from pydantic<3,>=1.9.0->openai>=1.1.0->llama-index) (2.14.6)\n",
      "Requirement already satisfied: six>=1.5 in /Users/adam/miniconda3/envs/dsml/lib/python3.11/site-packages (from python-dateutil>=2.8.2->pandas->llama-index) (1.16.0)\n",
      "Note: you may need to restart the kernel to use updated packages.\n"
     ]
    }
   ],
   "source": [
    "%pip install -U newsapi-python llama-index"
   ]
  },
  {
   "cell_type": "code",
   "execution_count": 5,
   "metadata": {},
   "outputs": [
    {
     "name": "stdout",
     "output_type": "stream",
     "text": [
      "retrieved 100 articles\n"
     ]
    }
   ],
   "source": [
    "import json\n",
    "from newsapi import NewsApiClient\n",
    "import os\n",
    "\n",
    "news_api_key = os.getenv('NEWS_API_KEY')\n",
    "newsapi = NewsApiClient(api_key=news_api_key)\n",
    "get_articles_now = False\n",
    "articles_path = './saved_articles.json'\n",
    "\n",
    "if get_articles_now:\n",
    "    try:\n",
    "        all_articles = newsapi.get_everything(q='Llama2',\n",
    "                                              from_param='2023-11-01',\n",
    "                                              to='2023-11-30',\n",
    "                                              language='en',\n",
    "                                              sort_by='publishedAt',\n",
    "                                              page_size=100)\n",
    "        with open(articles_path, 'w') as f:\n",
    "            json.dump(all_articles, f)\n",
    "    except Exception as e:\n",
    "        print(\"An error occurred:\", str(e))\n",
    "else:\n",
    "    with open(articles_path, 'r') as f:\n",
    "        all_articles = json.load(f)\n",
    "\n",
    "print(f'retrieved {len(all_articles[\"articles\"])} articles')"
   ]
  },
  {
   "cell_type": "code",
   "execution_count": 6,
   "metadata": {},
   "outputs": [
    {
     "data": {
      "text/plain": [
       "{'source': {'id': None, 'name': 'Biztoc.com'},\n",
       " 'author': 'venturebeat.com',\n",
       " 'title': 'Researchers scanned public repos and found 1,681 exposed Hugging Face API tokens belonging to Meta, Microsoft, Google, and others, many with write permissions',\n",
       " 'description': 'Further validating how brittle the security of generative AI models and their platforms are, Lasso Security helped Hugging Face dodge a potentially devastating attack by discovering that 1,681 API tokens were at risk of being compromised. The tokens were disc…',\n",
       " 'url': 'https://biztoc.com/x/49a7e5691d3a7b0c',\n",
       " 'urlToImage': 'https://c.biztoc.com/p/49a7e5691d3a7b0c/s.webp',\n",
       " 'publishedAt': '2023-12-04T17:50:08Z',\n",
       " 'content': 'Further validating how brittle the security of generative AI models and their platforms are, Lasso Security helped Hugging Face dodge a potentially devastating attack by discovering that 1,681 API to… [+292 chars]'}"
      ]
     },
     "execution_count": 6,
     "metadata": {},
     "output_type": "execute_result"
    }
   ],
   "source": [
    "all_articles['articles'][0]"
   ]
  },
  {
   "cell_type": "code",
   "execution_count": 7,
   "metadata": {},
   "outputs": [
    {
     "data": {
      "text/plain": [
       "['Researchers scanned public repos and found 1,681 exposed Hugging Face API tokens belonging to Meta, Microsoft, Google, and others, many with write permissions',\n",
       " 'How to choose between ChatGPT and Open Source LLMs in Finance',\n",
       " \"ChatGPT was treated like the 'second coming of the messiah' and its impact was a big surprise, says Meta's AI chief\",\n",
       " 'Show HN: AI That Studies for You',\n",
       " \"ChatGPT was treated like the 'second coming of the messiah' and its impact was a big surprise, says Meta's AI chief\",\n",
       " 'Ambarella : Q3 FY2024 Earnings Call Transcript',\n",
       " 'Package and deploy classical ML and LLMs easily with Amazon SageMaker, part 1: PySDK Improvements',\n",
       " 'Alibaba releases 72B LLM with 32k context length',\n",
       " 'Revolutionizing Business Solutions with SAP BTP: A New Era of LLM Agnosticism',\n",
       " 'Use Ollama LLM Models Locally with Laravel',\n",
       " 'Operationalize LLM Evaluation at Scale using Amazon SageMaker Clarify and MLOps services',\n",
       " 'AWS unveils new tools and services for ‘supernova’ of generative AI',\n",
       " 'Perplexity AI unveils ‘online’ LLMs that could dethrone Google Search',\n",
       " \"Perplexity announces two online LLMs that can access the internet to deliver up-to-date responses, available via Perplexity's API and Labs web interface\",\n",
       " 'The reason behind Sam Altman’s ouster leaves OpenAI staff uneasy after his return',\n",
       " 'Perplexity Introduces Online LLMs With Real-Time Information via @sejournal, @kristileilani',\n",
       " 'McAfee’s CTO on AI and the ‘cat-and-mouse’ game with holiday scams',\n",
       " 'Amazon’s Selipsky Pounces On Safe, Diverse AI',\n",
       " \"We tried Brave's AI chatbot Leo: It talks a lot about privacy, but is it truly private?\",\n",
       " 'Research To Transform India’s Consumer Grievance Redressal System Through GenAI']"
      ]
     },
     "execution_count": 7,
     "metadata": {},
     "output_type": "execute_result"
    }
   ],
   "source": [
    "all_titles = [article['title'] for article in all_articles['articles']]\n",
    "all_titles[:20]"
   ]
  },
  {
   "cell_type": "code",
   "execution_count": 8,
   "metadata": {},
   "outputs": [
    {
     "data": {
      "text/plain": [
       "['Further validating how brittle the security of generative AI models and their platforms are, Lasso Security helped Hugging Face dodge a potentially devastating attack by discovering that 1,681 API to… [+292 chars]',\n",
       " 'How to choose between ChatGPT and Open Source LLMs in FinanceMany consulting companies present LLMs and GenAI products to CEOs, CFOs, COOs, and CTOs. While these products may seem appealing, companie… [+227 chars]',\n",
       " 'None Meta\\'s chief scientist says the impact of ChatGPT was a surprise.None Yann LeCun told Forbes the bot was treated like the \"second coming of the messiah.\"It\\'s been a year since OpenAI launched Ch… [+281 chars]',\n",
       " '10x-nerd-buddy\\r\\nThis is a thing that studies for US.\\r\\nNERD BUDDY scours the internet for resources related to what YOU want to study\\r\\nWe give NERD BUDDY a study topic (a prompt) that is used to build… [+1026 chars]',\n",
       " 'Yann LeCun is Meta\\'s chief scientist.Meta PlatformsMeta\\'s chief scientist says the impact of ChatGPT was a surprise.Yann LeCun told Forbes the bot was treated like the \"second coming of the messiah.\"… [+299 chars]']"
      ]
     },
     "execution_count": 8,
     "metadata": {},
     "output_type": "execute_result"
    }
   ],
   "source": [
    "articles_text = [article['content'] for article in all_articles['articles']]\n",
    "articles_text[:5]"
   ]
  },
  {
   "cell_type": "code",
   "execution_count": 9,
   "metadata": {},
   "outputs": [],
   "source": [
    "# Building the RAG based system vs a fine-tuned model\n",
    "# Storing articles in a vector store\n",
    "\n",
    "from llama_index import VectorStoreIndex, ServiceContext, Document\n",
    "from openai import OpenAI\n",
    "import os\n",
    "\n",
    "OPENAI_API_KEY = os.environ[\"OPENAI_API_KEY\"]\n",
    "client = OpenAI(api_key=OPENAI_API_KEY)\n",
    "# Specify documents to be retrieved\n",
    "documents = [Document(text=t) for t in articles_text]\n",
    "# Create the vector store that we use to find relevant documents\n",
    "index = VectorStoreIndex.from_documents(documents)\n",
    "# A query engine is our final goal. The thing we can query\n",
    "query_engine = index.as_query_engine(similarity_top_k=2)"
   ]
  },
  {
   "cell_type": "code",
   "execution_count": 14,
   "metadata": {},
   "outputs": [
    {
     "ename": "AttributeError",
     "evalue": "'Response' object has no attribute 'keys'",
     "output_type": "error",
     "traceback": [
      "\u001b[0;31m---------------------------------------------------------------------------\u001b[0m",
      "\u001b[0;31mAttributeError\u001b[0m                            Traceback (most recent call last)",
      "Cell \u001b[0;32mIn[14], line 3\u001b[0m\n\u001b[1;32m      1\u001b[0m \u001b[38;5;66;03m# Querying the engine with new text\u001b[39;00m\n\u001b[1;32m      2\u001b[0m response \u001b[38;5;241m=\u001b[39m query_engine\u001b[38;5;241m.\u001b[39mquery(\u001b[38;5;124m\"\u001b[39m\u001b[38;5;124mHow is NVidia doing in the ML space?\u001b[39m\u001b[38;5;124m\"\u001b[39m)\n\u001b[0;32m----> 3\u001b[0m \u001b[43mresponse\u001b[49m\u001b[38;5;241;43m.\u001b[39;49m\u001b[43mkeys\u001b[49m\n",
      "\u001b[0;31mAttributeError\u001b[0m: 'Response' object has no attribute 'keys'"
     ]
    }
   ],
   "source": [
    "# Querying the engine with new text\n",
    "response = query_engine.query(\"How is NVidia doing in the ML space?\")\n",
    "response."
   ]
  },
  {
   "cell_type": "code",
   "execution_count": 15,
   "metadata": {},
   "outputs": [],
   "source": [
    "# Search util to omit all the extra stuff\n",
    "def search(query):\n",
    "    response = query_engine.query(query)\n",
    "    output = {\n",
    "        'response': response.response,\n",
    "        'retrieved_nodes': [p.text for p in response.source_nodes],\n",
    "    }\n",
    "    return output"
   ]
  },
  {
   "cell_type": "code",
   "execution_count": 16,
   "metadata": {},
   "outputs": [
    {
     "data": {
      "text/plain": [
       "{'response': 'Amazon Bedrock',\n",
       " 'retrieved_nodes': ['Today, were announcing the availability of Metas Llama 2 Chat 13B large language model (LLM) on Amazon Bedrock. With this launch, Amazon Bedrock becomes the first public cloud service to offer a full… [+8111 chars]',\n",
       "  'Run Large-Language Models (LLMs) directly in your browser ! \\r\\nLearn More: API Reference\\r\\nDeveloped By: RDS \\r\\nThis web demo enables you to run LLM models from Hugging Face (GGUF/GGML/tiny-llama2/starc… [+34 chars]']}"
      ]
     },
     "execution_count": 16,
     "metadata": {},
     "output_type": "execute_result"
    }
   ],
   "source": [
    "search(\"What AWS service can I use to deploy Llama2 models?\")"
   ]
  },
  {
   "cell_type": "markdown",
   "metadata": {},
   "source": []
  }
 ],
 "metadata": {
  "kernelspec": {
   "display_name": "dsml",
   "language": "python",
   "name": "python3"
  },
  "language_info": {
   "codemirror_mode": {
    "name": "ipython",
    "version": 3
   },
   "file_extension": ".py",
   "mimetype": "text/x-python",
   "name": "python",
   "nbconvert_exporter": "python",
   "pygments_lexer": "ipython3",
   "version": "3.11.7"
  }
 },
 "nbformat": 4,
 "nbformat_minor": 2
}
